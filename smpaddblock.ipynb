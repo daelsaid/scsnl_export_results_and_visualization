{
  "cells": [
    {
      "cell_type": "markdown",
      "source": [
        "<h1>Table of Contents<span class=\"tocSkip\"></span></h1>\n",
        "<div class=\"toc\"><ul class=\"toc-item\"></ul></div>"
      ],
      "metadata": {
        "toc": true
      }
    },
    {
      "cell_type": "code",
      "source": [
        "%matplotlib inline\n",
        "import os\n",
        "import sys\n",
        "from glob import glob\n",
        "sys.path.append('/Users/daelsaid/miniconda3/lib/python3.7/site-packages')\n",
        "from nilearn.plotting import plot_epi,plot_roi,plot_connectome,plot_glass_brain,plot_img,plot_stat_map,plot_prob_atlas\n",
        "from IPython.display import Image"
      ],
      "outputs": [],
      "execution_count": 2,
      "metadata": {
        "ExecuteTime": {
          "end_time": "2019-12-20T21:50:16.688231Z",
          "start_time": "2019-12-20T21:50:14.986582Z"
        },
        "inputHidden": false,
        "outputExpanded": false,
        "outputHidden": false
      }
    },
    {
      "cell_type": "code",
      "source": [
        "stats_dir='/Users/daelsaid/software/matlab_drive/exportResults/data/smpaddblock/'\n",
        "os.listdir(stats_dir)\n",
        "files=[img for img in glob(os.path.join(stats_dir,'*','*','*','*vox.nii')) if '0vox.nii' not in img and 'Inf' not in img]\n",
        "files"
      ],
      "outputs": [
        {
          "output_type": "execute_result",
          "execution_count": 3,
          "data": {
            "text/plain": [
              "['/Users/daelsaid/software/matlab_drive/exportResults/data/smpaddblock/addblock_no_regressors_allsubj_spm12/groupstats_addblock_swgcar_spm12/009T_simple-rest/addblock_swgcar_009T_simple-rest_neg_p_unc.001_238vox.nii',\n",
              " '/Users/daelsaid/software/matlab_drive/exportResults/data/smpaddblock/addblock_no_regressors_allsubj_spm12/groupstats_addblock_swgcar_spm12/009T_simple-rest/addblock_swgcar_009T_simple-rest_pos_p_unc.001_605vox.nii',\n",
              " '/Users/daelsaid/software/matlab_drive/exportResults/data/smpaddblock/addblock_no_regressors_allsubj_spm12/groupstats_addblock_swgcar_spm12/003T_complex-find/addblock_swgcar_003T_complex-find_neg_p_unc.001_244vox.nii',\n",
              " '/Users/daelsaid/software/matlab_drive/exportResults/data/smpaddblock/addblock_no_regressors_allsubj_spm12/groupstats_addblock_swgcar_spm12/011T_find-rest/addblock_swgcar_011T_find-rest_pos_p_unc.001_222vox.nii',\n",
              " '/Users/daelsaid/software/matlab_drive/exportResults/data/smpaddblock/addblock_no_regressors_allsubj_spm12/groupstats_addblock_swgcar_spm12/011T_find-rest/addblock_swgcar_011T_find-rest_neg_p_unc.001_324vox.nii',\n",
              " '/Users/daelsaid/software/matlab_drive/exportResults/data/smpaddblock/addblock_no_regressors_allsubj_spm12/groupstats_addblock_swgcar_spm12/005T_simple-find/addblock_swgcar_005T_simple-find_neg_p_unc.001_458vox.nii',\n",
              " '/Users/daelsaid/software/matlab_drive/exportResults/data/smpaddblock/addblock_no_regressors_allsubj_spm12/groupstats_addblock_swgcar_spm12/007T_complex-rest/addblock_swgcar_007T_complex-rest_neg_p_unc.001_252vox.nii',\n",
              " '/Users/daelsaid/software/matlab_drive/exportResults/data/smpaddblock/addblock_no_regressors_allsubj_spm12/groupstats_addblock_swgcar_spm12/007T_complex-rest/addblock_swgcar_007T_complex-rest_pos_p_unc.001_266vox.nii',\n",
              " '/Users/daelsaid/software/matlab_drive/exportResults/data/smpaddblock/addblock_no_regressors_allsubj_spm12/groupstats_addblock_swcar_spm12/009T_simple-rest/addblock_swgcar_009T_simple-rest_neg_p_unc.001_234vox.nii',\n",
              " '/Users/daelsaid/software/matlab_drive/exportResults/data/smpaddblock/addblock_no_regressors_allsubj_spm12/groupstats_addblock_swcar_spm12/009T_simple-rest/addblock_swgcar_009T_simple-rest_pos_p_unc.001_435vox.nii',\n",
              " '/Users/daelsaid/software/matlab_drive/exportResults/data/smpaddblock/addblock_no_regressors_allsubj_spm12/groupstats_addblock_swcar_spm12/003T_complex-find/addblock_swgcar_003T_complex-find_pos_p_unc.001_289vox.nii',\n",
              " '/Users/daelsaid/software/matlab_drive/exportResults/data/smpaddblock/addblock_no_regressors_allsubj_spm12/groupstats_addblock_swcar_spm12/003T_complex-find/addblock_swgcar_003T_complex-find_neg_p_unc.001_311vox.nii',\n",
              " '/Users/daelsaid/software/matlab_drive/exportResults/data/smpaddblock/addblock_no_regressors_allsubj_spm12/groupstats_addblock_swcar_spm12/011T_find-rest/addblock_swgcar_011T_find-rest_pos_p_unc.001_217vox.nii',\n",
              " '/Users/daelsaid/software/matlab_drive/exportResults/data/smpaddblock/addblock_no_regressors_allsubj_spm12/groupstats_addblock_swcar_spm12/011T_find-rest/addblock_swgcar_011T_find-rest_neg_p_unc.001_412vox.nii',\n",
              " '/Users/daelsaid/software/matlab_drive/exportResults/data/smpaddblock/addblock_no_regressors_allsubj_spm12/groupstats_addblock_swcar_spm12/005T_simple-find/addblock_swgcar_005T_simple-find_neg_p_unc.001_801vox.nii',\n",
              " '/Users/daelsaid/software/matlab_drive/exportResults/data/smpaddblock/addblock_no_regressors_allsubj_spm12/groupstats_addblock_swcar_spm12/007T_complex-rest/addblock_swgcar_007T_complex-rest_pos_p_unc.001_224vox.nii',\n",
              " '/Users/daelsaid/software/matlab_drive/exportResults/data/smpaddblock/addblock_no_regressors_allsubj_spm12/groupstats_addblock_swcar_spm12/007T_complex-rest/addblock_swgcar_007T_complex-rest_neg_p_unc.001_263vox.nii',\n",
              " '/Users/daelsaid/software/matlab_drive/exportResults/data/smpaddblock/addblock_no_regressors_allsubj_spm12/groupstats_addblock_swgcaor_volrepaired_spm12/013T_task-rest/addblock_swgcaor__pos_p_unc.001_312vox.nii',\n",
              " '/Users/daelsaid/software/matlab_drive/exportResults/data/smpaddblock/addblock_no_regressors_allsubj_spm12/groupstats_addblock_swgcaor_volrepaired_spm12/013T_task-rest/addblock_swgcaor__neg_p_unc.001_269vox.nii',\n",
              " '/Users/daelsaid/software/matlab_drive/exportResults/data/smpaddblock/addblock_no_regressors_allsubj_spm12/groupstats_addblock_swgcaor_volrepaired_spm12/009T_simple-rest/addblock_swgcaor_009T_simple-rest_neg_p_unc.001_282vox.nii',\n",
              " '/Users/daelsaid/software/matlab_drive/exportResults/data/smpaddblock/addblock_no_regressors_allsubj_spm12/groupstats_addblock_swgcaor_volrepaired_spm12/003T_complex-find/addblock_swgcaor_003T_complex-find_neg_p_unc.001_1065vox.nii',\n",
              " '/Users/daelsaid/software/matlab_drive/exportResults/data/smpaddblock/addblock_no_regressors_allsubj_spm12/groupstats_addblock_swgcaor_volrepaired_spm12/003T_complex-find/addblock_swgcaor_003T_complex-find_pos_p_unc.001_523vox.nii',\n",
              " '/Users/daelsaid/software/matlab_drive/exportResults/data/smpaddblock/addblock_no_regressors_allsubj_spm12/groupstats_addblock_swgcaor_volrepaired_spm12/011T_find-rest/addblock_swgcaor_011T_find-rest_pos_p_unc.001_242vox.nii',\n",
              " '/Users/daelsaid/software/matlab_drive/exportResults/data/smpaddblock/addblock_no_regressors_allsubj_spm12/groupstats_addblock_swgcaor_volrepaired_spm12/011T_find-rest/addblock_swgcaor_011T_find-rest_neg_p_unc.001_255vox.nii',\n",
              " '/Users/daelsaid/software/matlab_drive/exportResults/data/smpaddblock/addblock_no_regressors_allsubj_spm12/groupstats_addblock_swgcaor_volrepaired_spm12/005T_simple-find/addblock_swgcaor_005T_simple-find_neg_p_unc.001_243vox.nii',\n",
              " '/Users/daelsaid/software/matlab_drive/exportResults/data/smpaddblock/addblock_no_regressors_allsubj_spm12/groupstats_addblock_swgcaor_volrepaired_spm12/007T_complex-rest/addblock_swgcaor_007T_complex-rest_neg_p_unc.001_302vox.nii',\n",
              " '/Users/daelsaid/software/matlab_drive/exportResults/data/smpaddblock/addblock_no_regressors_allsubj_spm12/groupstats_addblock_swgcaor_volrepaired_spm12/007T_complex-rest/addblock_swgcaor_007T_complex-rest_pos_p_unc.001_221vox.nii',\n",
              " '/Users/daelsaid/software/matlab_drive/exportResults/data/smpaddblock/addblock_no_regressors_allsubj_spm12/groupstats_addblock_swaor_spm12/001T_complex-simple/addblock_swgcar_001T_complex-simple_pos_p_unc.001_396vox.nii',\n",
              " '/Users/daelsaid/software/matlab_drive/exportResults/data/smpaddblock/addblock_no_regressors_allsubj_spm12/groupstats_addblock_swaor_spm12/009T_simple-rest/addblock_swgcar_009T_simple-rest_neg_p_unc.001_538vox.nii',\n",
              " '/Users/daelsaid/software/matlab_drive/exportResults/data/smpaddblock/addblock_no_regressors_allsubj_spm12/groupstats_addblock_swaor_spm12/003T_complex-find/addblock_swgcar_003T_complex-find_neg_p_unc.001_1087vox.nii',\n",
              " '/Users/daelsaid/software/matlab_drive/exportResults/data/smpaddblock/addblock_no_regressors_allsubj_spm12/groupstats_addblock_swaor_spm12/003T_complex-find/addblock_swgcar_003T_complex-find_pos_p_unc.001_903vox.nii',\n",
              " '/Users/daelsaid/software/matlab_drive/exportResults/data/smpaddblock/addblock_no_regressors_allsubj_spm12/groupstats_addblock_swaor_spm12/011T_find-rest/addblock_swgcar_011T_find-rest_neg_p_unc.001_829vox.nii',\n",
              " '/Users/daelsaid/software/matlab_drive/exportResults/data/smpaddblock/addblock_no_regressors_allsubj_spm12/groupstats_addblock_swaor_spm12/011T_find-rest/addblock_swgcar_011T_find-rest_pos_p_unc.001_309vox.nii',\n",
              " '/Users/daelsaid/software/matlab_drive/exportResults/data/smpaddblock/addblock_no_regressors_allsubj_spm12/groupstats_addblock_swaor_spm12/005T_simple-find/addblock_swgcar_005T_simple-find_neg_p_unc.001_333vox.nii',\n",
              " '/Users/daelsaid/software/matlab_drive/exportResults/data/smpaddblock/addblock_no_regressors_allsubj_spm12/groupstats_addblock_swaor_spm12/007T_complex-rest/addblock_swgcar_007T_complex-rest_neg_p_unc.001_395vox.nii',\n",
              " '/Users/daelsaid/software/matlab_drive/exportResults/data/smpaddblock/addblock_no_regressors_allsubj_spm12/groupstats_addblock_swaor_spm12/007T_complex-rest/addblock_swgcar_007T_complex-rest_pos_p_unc.001_281vox.nii',\n",
              " '/Users/daelsaid/software/matlab_drive/exportResults/data/smpaddblock/addblock_incl_regressors_swaor_spm12/groupstats_addblock_pca1_swaor_spm12/005T_simple-find/addblock_005T_simple-find_pos_p_unc.001_921vox.nii',\n",
              " '/Users/daelsaid/software/matlab_drive/exportResults/data/smpaddblock/addblock_incl_regressors_swaor_spm12/groupstats_addblock_PTR_swaor_spm12/003T_complex-find/addblock_003T_complex-find_pos_p_unc.001_534vox.nii',\n",
              " '/Users/daelsaid/software/matlab_drive/exportResults/data/smpaddblock/addblock_incl_regressors_swaor_spm12/groupstats_addblock_mPROP_swaor_spm12/005T_simple-find/swaor_addblock_005T_simple-find_pos_p_unc.01_141vox.nii',\n",
              " '/Users/daelsaid/software/matlab_drive/exportResults/data/smpaddblock/addblock_incl_regressors_swaor_spm12/groupstats_addblock_mPROP_swaor_spm12/005T_simple-find/addblock_005T_simple-find_pos_p_unc.001_901vox.nii',\n",
              " '/Users/daelsaid/software/matlab_drive/exportResults/data/smpaddblock/addblock_incl_regressors_swaor_spm12/groupstats_addblock_mPROP_swaor_spm12/005T_simple-find/swaor_addblock_005T_simple-find_pos_p_unc.01_3271vox.nii',\n",
              " '/Users/daelsaid/software/matlab_drive/exportResults/data/smpaddblock/addblock_incl_regressors_swaor_spm12/groupstats_addblock_mPROP_swaor_spm12/005T_simple-find/swaor_addblock_005T_simple-find_neg_p_unc.01_141vox.nii',\n",
              " '/Users/daelsaid/software/matlab_drive/exportResults/data/smpaddblock/addblock_incl_regressors_swaor_spm12/groupstats_addblock_avgCNT_swaor_spm12/005T_simple-find/addblock_005T_simple-find_neg_p_unc.001_814vox.nii',\n",
              " '/Users/daelsaid/software/matlab_drive/exportResults/data/smpaddblock/addblock_incl_regressors_swgcaor_spm12/groupstats_addblock_MRT_swgcaor_spm12/001T_complex-simple/addblock_001T_complex-simple_neg_p_unc.001_246vox.nii',\n",
              " '/Users/daelsaid/software/matlab_drive/exportResults/data/smpaddblock/addblock_incl_regressors_swgcaor_spm12/groupstats_addblock_rrCALIB_swgcaor_spm12/011T_find-rest/addblock_011T_find-rest_pos_p_unc.001_277vox.nii',\n",
              " '/Users/daelsaid/software/matlab_drive/exportResults/data/smpaddblock/addblock_incl_regressors_swgcaor_spm12/groupstats_addblock_ACC_swgcaor_spm12/009T_simple-rest/addblock_009T_simple-rest_neg_p_unc.001_309vox.nii',\n",
              " '/Users/daelsaid/software/matlab_drive/exportResults/data/smpaddblock/addblock_incl_regressors_swgcaor_spm12/groupstats_addblock_ACC_swgcaor_spm12/011T_find-rest/addblock_011T_find-rest_neg_p_unc.001_275vox.nii',\n",
              " '/Users/daelsaid/software/matlab_drive/exportResults/data/smpaddblock/addblock_incl_regressors_swgcaor_spm12/groupstats_addblock_PTR_swgcaor_spm12/007T_complex-rest/addblock_007T_complex-rest_pos_p_unc.001_302vox.nii',\n",
              " '/Users/daelsaid/software/matlab_drive/exportResults/data/smpaddblock/addblock_incl_regressors_swgcar_spm12/groupstats_addblock_ACC_swgcar_spm12/009T_simple-rest/addblock_009T_simple-rest_neg_p_unc.001_273vox.nii',\n",
              " '/Users/daelsaid/software/matlab_drive/exportResults/data/smpaddblock/addblock_incl_regressors_swgcar_spm12/groupstats_addblock_ACC_swgcar_spm12/011T_find-rest/addblock_011T_find-rest_neg_p_unc.001_709vox.nii',\n",
              " '/Users/daelsaid/software/matlab_drive/exportResults/data/smpaddblock/addblock_incl_regressors_swgcar_spm12/groupstats_addblock_RT_swgcar_spm12/007T_complex-rest/addblock_007T_complex-rest_pos_p_unc.001_346vox.nii',\n",
              " '/Users/daelsaid/software/matlab_drive/exportResults/data/smpaddblock/addblock_incl_regressors_swgcar_spm12/groupstats_addblock_mPROP_swgcar_spm12/005T_simple-find/addblock_005T_simple-find_pos_p_unc.001_339vox.nii',\n",
              " '/Users/daelsaid/software/matlab_drive/exportResults/data/smpaddblock/addblock_incl_regressors_swgcar_spm12/groupstats_addblock_PTR_swgcar_spm12/005T_simple-find/addblock_005T_simple-find_pos_p_unc.001_307vox.nii',\n",
              " '/Users/daelsaid/software/matlab_drive/exportResults/data/smpaddblock/addblock_incl_regressors_swgcar_spm12/groupstats_addblock_avgMEM_swgcar_spm12/005T_simple-find/addblock_005T_simple-find_pos_p_unc.001_399vox.nii']"
            ]
          },
          "metadata": {}
        }
      ],
      "execution_count": 3,
      "metadata": {
        "ExecuteTime": {
          "end_time": "2019-12-20T21:50:19.351107Z",
          "start_time": "2019-12-20T21:50:19.330864Z"
        },
        "inputHidden": false,
        "outputHidden": false,
        "scrolled": true
      }
    },
    {
      "cell_type": "code",
      "source": [
        "os.chdir('/Users/daelsaid/tools/atlasreader/')\n",
        "os.listdir()\n",
        "# !python setup.py install"
      ],
      "outputs": [
        {
          "output_type": "execute_result",
          "execution_count": 4,
          "data": {
            "text/plain": [
              "['paper',\n",
              " 'CODE_OF_CONDUCT.md',\n",
              " '.DS_Store',\n",
              " 'LICENSE',\n",
              " 'requirements.txt',\n",
              " 'dist',\n",
              " 'atlasreader.egg-info',\n",
              " 'README.md',\n",
              " 'atlasreader',\n",
              " 'setup.py',\n",
              " '.gitignore',\n",
              " 'CONTRIBUTING.md',\n",
              " 'build',\n",
              " '.git',\n",
              " '.travis.yml',\n",
              " 'notebooks',\n",
              " '.zenodo.json']"
            ]
          },
          "metadata": {}
        }
      ],
      "execution_count": 4,
      "metadata": {
        "ExecuteTime": {
          "end_time": "2019-12-20T21:55:31.341574Z",
          "start_time": "2019-12-20T21:55:29.976952Z"
        },
        "inputHidden": false,
        "outputHidden": true
      }
    },
    {
      "cell_type": "code",
      "source": [
        "# !pip install nilearn nibabel"
      ],
      "outputs": [],
      "execution_count": 13,
      "metadata": {
        "ExecuteTime": {
          "end_time": "2019-12-20T18:05:23.815659Z",
          "start_time": "2019-12-20T18:05:22.833754Z"
        }
      }
    },
    {
      "cell_type": "code",
      "source": [
        "#!pip install atlasreader\n",
        "import atlasreader\n",
        "from atlasreader import create_output\n",
        "from nilearn import datasets, plotting, image\n"
      ],
      "outputs": [
        {
          "output_type": "stream",
          "name": "stdout",
          "text": [
            "The Python package you are importing, AtlasReader, is licensed under the\n",
            "BSD-3 license; however, the atlases it uses are separately licensed under more\n",
            "restrictive frameworks.\n",
            "By using AtlasReader, you agree to abide by the license terms of the\n",
            "individual atlases. Information on these terms can be found online at:\n",
            "https://github.com/miykael/atlasreader/tree/master/atlasreader/data\n",
            "\n"
          ]
        }
      ],
      "execution_count": 14,
      "metadata": {
        "ExecuteTime": {
          "end_time": "2019-12-20T21:55:34.186473Z",
          "start_time": "2019-12-20T21:55:32.968554Z"
        }
      }
    },
    {
      "cell_type": "code",
      "source": [
        "pwd=os.getcwd()\n",
        "\n",
        "for file_images in files:\n",
        "    numvox=os.path.basename(file_images).split('001_')[-1].split('.')[0]\n",
        "    contrast=os.path.dirname(file_images).split('/')[-1]\n",
        "    pipeline=os.path.dirname(file_images).split('/')[-2].split('_')[2]\n",
        "    direction=os.path.basename(file_images).split('_')[-4]\n",
        "    numvoxels_for_outputfile=int(numvox.split('vox')[0])\n",
        "    img=os.path.basename(file_images)\n",
        "\n",
        "    imgname=pipeline+ ' - addition block - ' + contrast + ' -- '+ direction+'. p<0.001, '+ numvox\n",
        "    output_filename=pipeline+ '_addition block_'+ contrast + '_'+ direction+'_p-0.001_'+numvox\n",
        "\n",
        "    print(numvox,contrast,pipeline,direction,imgname,output_filename)\n",
        "    os.chdir(os.path.dirname(file_images))\n",
        "    if direction=='neg':\n",
        "        file_image=image.math_img(\"-img\",img=file_images)\n",
        "    else:\n",
        "        file_image=file_images\n",
        "    plot_glass_brain(file_image, black_bg=True, colorbar=True, plot_abs=False,display_mode='lyrz', title=imgname, output_file=output_filename+'.png')\n",
        "    plot_stat_map(file_image,title=imgname, output_file=output_filename+'_stat.png')\n",
        "    atlasreader.create_output(file_image, atlas='harvard_oxford', cluster_extent=numvoxels_for_outputfile)"
      ],
      "outputs": [
        {
          "output_type": "stream",
          "name": "stdout",
          "text": [
            "252vox 007T_complex-rest swgcar neg swgcar - addition block - 007T_complex-rest -- neg. p<0.001, 252vox swgcar_addition block_007T_complex-rest_neg_p-0.001_252vox\n",
            "263vox 007T_complex-rest swcar neg swcar - addition block - 007T_complex-rest -- neg. p<0.001, 263vox swcar_addition block_007T_complex-rest_neg_p-0.001_263vox\n",
            "302vox 007T_complex-rest swgcaor neg swgcaor - addition block - 007T_complex-rest -- neg. p<0.001, 302vox swgcaor_addition block_007T_complex-rest_neg_p-0.001_302vox\n",
            "395vox 007T_complex-rest swaor neg swaor - addition block - 007T_complex-rest -- neg. p<0.001, 395vox swaor_addition block_007T_complex-rest_neg_p-0.001_395vox\n"
          ]
        },
        {
          "output_type": "stream",
          "name": "stderr",
          "text": [
            "/Users/daelsaid/tools/atlasreader/atlasreader/atlasreader.py:840: FutureWarning: The 'get_values' method is deprecated and will be removed in a future version. Use '.values' or 'np.asarray(..)' instead.\n",
            "  coords = clust_frame[['peak_x', 'peak_y', 'peak_z']].get_values()\n",
            "/Users/daelsaid/tools/atlasreader/atlasreader/atlasreader.py:840: FutureWarning: The 'get_values' method is deprecated and will be removed in a future version. Use '.values' or 'np.asarray(..)' instead.\n",
            "  coords = clust_frame[['peak_x', 'peak_y', 'peak_z']].get_values()\n",
            "/Users/daelsaid/tools/atlasreader/atlasreader/atlasreader.py:840: FutureWarning: The 'get_values' method is deprecated and will be removed in a future version. Use '.values' or 'np.asarray(..)' instead.\n",
            "  coords = clust_frame[['peak_x', 'peak_y', 'peak_z']].get_values()\n"
          ]
        }
      ],
      "execution_count": 15,
      "metadata": {
        "ExecuteTime": {
          "end_time": "2019-12-20T22:20:27.067869Z",
          "start_time": "2019-12-20T21:55:36.751920Z"
        },
        "inputHidden": false,
        "outputHidden": false,
        "scrolled": true
      }
    },
    {
      "cell_type": "code",
      "source": [
        "from nilearn import datasets, plotting, image\n",
        "image1='/Users/daelsaid/software/matlab_drive/exportResults/data/smpaddblock/addblock_incl_regressors_swgcar_spm12/groupstats_addblock_ACC_swgcar_spm12/011T_find-rest/addblock_011T_find-rest_neg_p_unc.001_709vox.nii'\n",
        "image_unthresh='/Users/daelsaid/software/matlab_drive/exportResults/data/smpaddblock/addblock_incl_regressors_swgcar_spm12/groupstats_addblock_ACC_swgcar_spm12/011T_find-rest/addblock_011T_find-rest_neg_p_unc.001_0vox.nii'\n",
        "img_neg=image.math_img(\"-img\",img=image1)\n",
        "\n",
        "atlasreader.get_statmap_info(image_unthresh,cluster_extent=709)\n",
        "plot_glass_brain(image1,black_bg=False, colorbar=True,vmax=5,plot_abs=True,display_mode='ortho')\n",
        "atlasreader.create_output(image1, atlas='harvard_oxford', cluster_extent=709)\n",
        "atlasreader.create_output(image_unthresh, atlas='harvard_oxford', cluster_extent=709)\n",
        "\n",
        "plotting.plot_stat_map(image1)\n",
        "plotting.plot_stat_map(img_neg)\n"
      ],
      "outputs": [],
      "execution_count": null,
      "metadata": {
        "collapsed": false,
        "outputHidden": false,
        "inputHidden": false
      }
    },
    {
      "cell_type": "markdown",
      "source": [
        "plot_prob_atlas\n",
        "plot_img\n",
        "plot_glass_brain\n",
        "plot_connectome\n",
        "plot_roi\n",
        "plot_epi"
      ],
      "metadata": {
        "ExecuteTime": {
          "end_time": "2019-12-20T18:06:01.522613Z",
          "start_time": "2019-12-20T18:06:01.517727Z"
        },
        "inputHidden": false,
        "outputHidden": false
      }
    },
    {
      "cell_type": "code",
      "source": [
        "for file_images in files:\n",
        "    numvox=os.path.basename(file_images).split('001_')[-1].split('.')[0]\n",
        "#     print(numvox)\n",
        "    contrast=os.path.dirname(file_images).split('/')[-1]\n",
        "#     print(contrast)\n",
        "    pipeline=os.path.dirname(file_images).split('/')[-2].split('_')[2]\n",
        "#     print(pipeline)\n",
        "    direction=os.path.basename(file_images).split('_')[-4]\n",
        "#     print(direcion)\n",
        "    imgname=pipeline+ ' - addition block - ' + contrast + ' -- '+ direction+'. p<0.001, '+ numvox\n",
        "#     print(imgname)\n",
        "    output_filename=pipeline+ '_addition block_'+ contrast + '_'+ direction+'_p-0.001_'+numvox\n",
        "#     print(output_filename)\n",
        "#     plot_glass_brain(file_images, black_bg=True, colorbar=True, plot_abs=False,display_mode='lyrz', title=imgname,output_file=output_filename+'.png')\n",
        "#     plot_stat_map(file_images,title=imgname, output_file=output_filename+'_stat.png')\n",
        " \n"
      ],
      "outputs": [],
      "execution_count": null,
      "metadata": {
        "ExecuteTime": {
          "end_time": "2019-12-20T18:04:59.289012Z",
          "start_time": "2019-12-20T18:04:59.282770Z"
        },
        "inputHidden": true,
        "outputExpanded": false,
        "outputHidden": false
      }
    }
  ],
  "metadata": {
    "anaconda-cloud": {},
    "kernel_info": {
      "name": "python3"
    },
    "kernelspec": {
      "name": "python3",
      "language": "python",
      "display_name": "Python 3"
    },
    "language_info": {
      "name": "python",
      "version": "3.7.1",
      "mimetype": "text/x-python",
      "codemirror_mode": {
        "name": "ipython",
        "version": 3
      },
      "pygments_lexer": "ipython3",
      "nbconvert_exporter": "python",
      "file_extension": ".py"
    },
    "nteract": {
      "version": "0.12.3"
    },
    "toc": {
      "toc_position": {},
      "skip_h1_title": false,
      "number_sections": true,
      "title_cell": "Table of Contents",
      "toc_window_display": false,
      "base_numbering": 1,
      "toc_section_display": true,
      "title_sidebar": "Contents",
      "toc_cell": true,
      "nav_menu": {},
      "sideBar": true
    }
  },
  "nbformat": 4,
  "nbformat_minor": 2
}