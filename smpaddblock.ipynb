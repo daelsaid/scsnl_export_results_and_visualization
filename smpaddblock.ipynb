{
 "cells": [
  {
   "cell_type": "markdown",
   "metadata": {
    "toc": true
   },
   "source": [
    "<h1>Table of Contents<span class=\"tocSkip\"></span></h1>\n",
    "<div class=\"toc\"><ul class=\"toc-item\"></ul></div>"
   ]
  },
  {
   "cell_type": "code",
   "execution_count": 1,
   "metadata": {
    "ExecuteTime": {
     "end_time": "2019-12-20T21:50:16.688231Z",
     "start_time": "2019-12-20T21:50:14.986582Z"
    },
    "inputHidden": false,
    "outputExpanded": false,
    "outputHidden": false
   },
   "outputs": [],
   "source": [
    "%matplotlib inlinez\n",
    "import os\n",
    "import sys\n",
    "from glob import glob\n",
    "sys.path.append('/Users/daelsaid/miniconda3/lib/python3.7/site-packages')\n",
    "from nilearn.plotting import plot_epi,plot_roi,plot_connectome,plot_glass_brain,plot_img,plot_stat_map,plot_prob_atlas\n",
    "from IPython.display import Image"
   ]
  },
  {
   "cell_type": "code",
   "execution_count": 2,
   "metadata": {
    "ExecuteTime": {
     "end_time": "2019-12-20T21:50:19.351107Z",
     "start_time": "2019-12-20T21:50:19.330864Z"
    },
    "inputHidden": false,
    "outputHidden": false,
    "scrolled": true
   },
   "outputs": [
    {
     "data": {
      "text/plain": [
       "['/Users/daelsaid/software/matlab_drive/exportResults/data/smpaddblock/addblock_no_regressors_allsubj_spm12/groupstats_addblock_swgcar_spm12/009T_simple-rest/addblock_swgcar_009T_simple-rest_neg_p_unc.001_238vox.nii',\n",
       " '/Users/daelsaid/software/matlab_drive/exportResults/data/smpaddblock/addblock_no_regressors_allsubj_spm12/groupstats_addblock_swgcar_spm12/009T_simple-rest/addblock_swgcar_009T_simple-rest_pos_p_unc.001_605vox.nii',\n",
       " '/Users/daelsaid/software/matlab_drive/exportResults/data/smpaddblock/addblock_no_regressors_allsubj_spm12/groupstats_addblock_swgcar_spm12/003T_complex-find/addblock_swgcar_003T_complex-find_neg_p_unc.001_244vox.nii',\n",
       " '/Users/daelsaid/software/matlab_drive/exportResults/data/smpaddblock/addblock_no_regressors_allsubj_spm12/groupstats_addblock_swgcar_spm12/011T_find-rest/addblock_swgcar_011T_find-rest_pos_p_unc.001_222vox.nii',\n",
       " '/Users/daelsaid/software/matlab_drive/exportResults/data/smpaddblock/addblock_no_regressors_allsubj_spm12/groupstats_addblock_swgcar_spm12/011T_find-rest/addblock_swgcar_011T_find-rest_neg_p_unc.001_324vox.nii',\n",
       " '/Users/daelsaid/software/matlab_drive/exportResults/data/smpaddblock/addblock_no_regressors_allsubj_spm12/groupstats_addblock_swgcar_spm12/005T_simple-find/addblock_swgcar_005T_simple-find_neg_p_unc.001_458vox.nii',\n",
       " '/Users/daelsaid/software/matlab_drive/exportResults/data/smpaddblock/addblock_no_regressors_allsubj_spm12/groupstats_addblock_swgcar_spm12/007T_complex-rest/addblock_swgcar_007T_complex-rest_neg_p_unc.001_252vox.nii',\n",
       " '/Users/daelsaid/software/matlab_drive/exportResults/data/smpaddblock/addblock_no_regressors_allsubj_spm12/groupstats_addblock_swgcar_spm12/007T_complex-rest/addblock_swgcar_007T_complex-rest_pos_p_unc.001_266vox.nii',\n",
       " '/Users/daelsaid/software/matlab_drive/exportResults/data/smpaddblock/addblock_no_regressors_allsubj_spm12/groupstats_addblock_swcar_spm12/009T_simple-rest/addblock_swgcar_009T_simple-rest_neg_p_unc.001_234vox.nii',\n",
       " '/Users/daelsaid/software/matlab_drive/exportResults/data/smpaddblock/addblock_no_regressors_allsubj_spm12/groupstats_addblock_swcar_spm12/009T_simple-rest/addblock_swgcar_009T_simple-rest_pos_p_unc.001_435vox.nii',\n",
       " '/Users/daelsaid/software/matlab_drive/exportResults/data/smpaddblock/addblock_no_regressors_allsubj_spm12/groupstats_addblock_swcar_spm12/003T_complex-find/addblock_swgcar_003T_complex-find_pos_p_unc.001_289vox.nii',\n",
       " '/Users/daelsaid/software/matlab_drive/exportResults/data/smpaddblock/addblock_no_regressors_allsubj_spm12/groupstats_addblock_swcar_spm12/003T_complex-find/addblock_swgcar_003T_complex-find_neg_p_unc.001_311vox.nii',\n",
       " '/Users/daelsaid/software/matlab_drive/exportResults/data/smpaddblock/addblock_no_regressors_allsubj_spm12/groupstats_addblock_swcar_spm12/011T_find-rest/addblock_swgcar_011T_find-rest_pos_p_unc.001_217vox.nii',\n",
       " '/Users/daelsaid/software/matlab_drive/exportResults/data/smpaddblock/addblock_no_regressors_allsubj_spm12/groupstats_addblock_swcar_spm12/011T_find-rest/addblock_swgcar_011T_find-rest_neg_p_unc.001_412vox.nii',\n",
       " '/Users/daelsaid/software/matlab_drive/exportResults/data/smpaddblock/addblock_no_regressors_allsubj_spm12/groupstats_addblock_swcar_spm12/005T_simple-find/addblock_swgcar_005T_simple-find_neg_p_unc.001_801vox.nii',\n",
       " '/Users/daelsaid/software/matlab_drive/exportResults/data/smpaddblock/addblock_no_regressors_allsubj_spm12/groupstats_addblock_swcar_spm12/007T_complex-rest/addblock_swgcar_007T_complex-rest_pos_p_unc.001_224vox.nii',\n",
       " '/Users/daelsaid/software/matlab_drive/exportResults/data/smpaddblock/addblock_no_regressors_allsubj_spm12/groupstats_addblock_swcar_spm12/007T_complex-rest/addblock_swgcar_007T_complex-rest_neg_p_unc.001_263vox.nii',\n",
       " '/Users/daelsaid/software/matlab_drive/exportResults/data/smpaddblock/addblock_no_regressors_allsubj_spm12/groupstats_addblock_swgcaor_volrepaired_spm12/013T_task-rest/addblock_swgcaor__pos_p_unc.001_312vox.nii',\n",
       " '/Users/daelsaid/software/matlab_drive/exportResults/data/smpaddblock/addblock_no_regressors_allsubj_spm12/groupstats_addblock_swgcaor_volrepaired_spm12/013T_task-rest/addblock_swgcaor__neg_p_unc.001_269vox.nii',\n",
       " '/Users/daelsaid/software/matlab_drive/exportResults/data/smpaddblock/addblock_no_regressors_allsubj_spm12/groupstats_addblock_swgcaor_volrepaired_spm12/009T_simple-rest/addblock_swgcaor_009T_simple-rest_neg_p_unc.001_282vox.nii',\n",
       " '/Users/daelsaid/software/matlab_drive/exportResults/data/smpaddblock/addblock_no_regressors_allsubj_spm12/groupstats_addblock_swgcaor_volrepaired_spm12/003T_complex-find/addblock_swgcaor_003T_complex-find_neg_p_unc.001_1065vox.nii',\n",
       " '/Users/daelsaid/software/matlab_drive/exportResults/data/smpaddblock/addblock_no_regressors_allsubj_spm12/groupstats_addblock_swgcaor_volrepaired_spm12/003T_complex-find/addblock_swgcaor_003T_complex-find_pos_p_unc.001_523vox.nii',\n",
       " '/Users/daelsaid/software/matlab_drive/exportResults/data/smpaddblock/addblock_no_regressors_allsubj_spm12/groupstats_addblock_swgcaor_volrepaired_spm12/011T_find-rest/addblock_swgcaor_011T_find-rest_pos_p_unc.001_242vox.nii',\n",
       " '/Users/daelsaid/software/matlab_drive/exportResults/data/smpaddblock/addblock_no_regressors_allsubj_spm12/groupstats_addblock_swgcaor_volrepaired_spm12/011T_find-rest/addblock_swgcaor_011T_find-rest_neg_p_unc.001_255vox.nii',\n",
       " '/Users/daelsaid/software/matlab_drive/exportResults/data/smpaddblock/addblock_no_regressors_allsubj_spm12/groupstats_addblock_swgcaor_volrepaired_spm12/005T_simple-find/addblock_swgcaor_005T_simple-find_neg_p_unc.001_243vox.nii',\n",
       " '/Users/daelsaid/software/matlab_drive/exportResults/data/smpaddblock/addblock_no_regressors_allsubj_spm12/groupstats_addblock_swgcaor_volrepaired_spm12/007T_complex-rest/addblock_swgcaor_007T_complex-rest_neg_p_unc.001_302vox.nii',\n",
       " '/Users/daelsaid/software/matlab_drive/exportResults/data/smpaddblock/addblock_no_regressors_allsubj_spm12/groupstats_addblock_swgcaor_volrepaired_spm12/007T_complex-rest/addblock_swgcaor_007T_complex-rest_pos_p_unc.001_221vox.nii',\n",
       " '/Users/daelsaid/software/matlab_drive/exportResults/data/smpaddblock/addblock_no_regressors_allsubj_spm12/groupstats_addblock_swaor_spm12/001T_complex-simple/addblock_swgcar_001T_complex-simple_pos_p_unc.001_396vox.nii',\n",
       " '/Users/daelsaid/software/matlab_drive/exportResults/data/smpaddblock/addblock_no_regressors_allsubj_spm12/groupstats_addblock_swaor_spm12/009T_simple-rest/addblock_swgcar_009T_simple-rest_neg_p_unc.001_538vox.nii',\n",
       " '/Users/daelsaid/software/matlab_drive/exportResults/data/smpaddblock/addblock_no_regressors_allsubj_spm12/groupstats_addblock_swaor_spm12/003T_complex-find/addblock_swgcar_003T_complex-find_neg_p_unc.001_1087vox.nii',\n",
       " '/Users/daelsaid/software/matlab_drive/exportResults/data/smpaddblock/addblock_no_regressors_allsubj_spm12/groupstats_addblock_swaor_spm12/003T_complex-find/addblock_swgcar_003T_complex-find_pos_p_unc.001_903vox.nii',\n",
       " '/Users/daelsaid/software/matlab_drive/exportResults/data/smpaddblock/addblock_no_regressors_allsubj_spm12/groupstats_addblock_swaor_spm12/011T_find-rest/addblock_swgcar_011T_find-rest_neg_p_unc.001_829vox.nii',\n",
       " '/Users/daelsaid/software/matlab_drive/exportResults/data/smpaddblock/addblock_no_regressors_allsubj_spm12/groupstats_addblock_swaor_spm12/011T_find-rest/addblock_swgcar_011T_find-rest_pos_p_unc.001_309vox.nii',\n",
       " '/Users/daelsaid/software/matlab_drive/exportResults/data/smpaddblock/addblock_no_regressors_allsubj_spm12/groupstats_addblock_swaor_spm12/005T_simple-find/addblock_swgcar_005T_simple-find_neg_p_unc.001_333vox.nii',\n",
       " '/Users/daelsaid/software/matlab_drive/exportResults/data/smpaddblock/addblock_no_regressors_allsubj_spm12/groupstats_addblock_swaor_spm12/007T_complex-rest/addblock_swgcar_007T_complex-rest_neg_p_unc.001_395vox.nii',\n",
       " '/Users/daelsaid/software/matlab_drive/exportResults/data/smpaddblock/addblock_no_regressors_allsubj_spm12/groupstats_addblock_swaor_spm12/007T_complex-rest/addblock_swgcar_007T_complex-rest_pos_p_unc.001_281vox.nii']"
      ]
     },
     "execution_count": 2,
     "metadata": {},
     "output_type": "execute_result"
    }
   ],
   "source": [
    "stats_dir='/Users/daelsaid/software/matlab_drive/exportResults/data/smpaddblock/addblock_no_regressors_allsubj_spm12'\n",
    "files=[img for img in glob(os.path.join(stats_dir,'*','*','*vox.nii')) if '0vox.nii' not in img and 'Inf' not in img]\n",
    "files"
   ]
  },
  {
   "cell_type": "code",
   "execution_count": 3,
   "metadata": {
    "ExecuteTime": {
     "end_time": "2019-12-20T21:55:31.341574Z",
     "start_time": "2019-12-20T21:55:29.976952Z"
    },
    "inputHidden": false,
    "outputHidden": false
   },
   "outputs": [
    {
     "name": "stdout",
     "output_type": "stream",
     "text": [
      "running install\n",
      "running bdist_egg\n",
      "running egg_info\n",
      "writing atlasreader.egg-info/PKG-INFO\n",
      "writing dependency_links to atlasreader.egg-info/dependency_links.txt\n",
      "writing entry points to atlasreader.egg-info/entry_points.txt\n",
      "writing requirements to atlasreader.egg-info/requires.txt\n",
      "writing top-level names to atlasreader.egg-info/top_level.txt\n",
      "reading manifest file 'atlasreader.egg-info/SOURCES.txt'\n",
      "writing manifest file 'atlasreader.egg-info/SOURCES.txt'\n",
      "installing library code to build/bdist.macosx-10.7-x86_64/egg\n",
      "running install_lib\n",
      "running build_py\n",
      "creating build/bdist.macosx-10.7-x86_64/egg\n",
      "creating build/bdist.macosx-10.7-x86_64/egg/atlasreader\n",
      "copying build/lib/atlasreader/atlasreader.py -> build/bdist.macosx-10.7-x86_64/egg/atlasreader\n",
      "creating build/bdist.macosx-10.7-x86_64/egg/atlasreader/tests\n",
      "copying build/lib/atlasreader/tests/test_atlasreader.py -> build/bdist.macosx-10.7-x86_64/egg/atlasreader/tests\n",
      "copying build/lib/atlasreader/tests/__init__.py -> build/bdist.macosx-10.7-x86_64/egg/atlasreader/tests\n",
      "copying build/lib/atlasreader/tests/test_cli.py -> build/bdist.macosx-10.7-x86_64/egg/atlasreader/tests\n",
      "copying build/lib/atlasreader/__init__.py -> build/bdist.macosx-10.7-x86_64/egg/atlasreader\n",
      "copying build/lib/atlasreader/cli.py -> build/bdist.macosx-10.7-x86_64/egg/atlasreader\n",
      "copying build/lib/atlasreader/info.py -> build/bdist.macosx-10.7-x86_64/egg/atlasreader\n",
      "creating build/bdist.macosx-10.7-x86_64/egg/atlasreader/data\n",
      "copying build/lib/atlasreader/data/prepare_atlases.py -> build/bdist.macosx-10.7-x86_64/egg/atlasreader/data\n",
      "copying build/lib/atlasreader/data/README.md -> build/bdist.macosx-10.7-x86_64/egg/atlasreader/data\n",
      "creating build/bdist.macosx-10.7-x86_64/egg/atlasreader/data/templates\n",
      "copying build/lib/atlasreader/data/templates/mni_icbm152_t1_tal_nlin_asym_09c_brain.nii.gz -> build/bdist.macosx-10.7-x86_64/egg/atlasreader/data/templates\n",
      "copying build/lib/atlasreader/data/templates/MNI152_T1_1mm_brain.nii.gz -> build/bdist.macosx-10.7-x86_64/egg/atlasreader/data/templates\n",
      "creating build/bdist.macosx-10.7-x86_64/egg/atlasreader/data/atlases\n",
      "copying build/lib/atlasreader/data/atlases/labels_talairach_gyrus.csv -> build/bdist.macosx-10.7-x86_64/egg/atlasreader/data/atlases\n",
      "copying build/lib/atlasreader/data/atlases/atlas_marsatlas.nii.gz -> build/bdist.macosx-10.7-x86_64/egg/atlasreader/data/atlases\n",
      "copying build/lib/atlasreader/data/atlases/labels_aicha.csv -> build/bdist.macosx-10.7-x86_64/egg/atlasreader/data/atlases\n",
      "copying build/lib/atlasreader/data/atlases/labels_marsatlas.csv -> build/bdist.macosx-10.7-x86_64/egg/atlasreader/data/atlases\n",
      "copying build/lib/atlasreader/data/atlases/atlas_harvard_oxford.nii.gz -> build/bdist.macosx-10.7-x86_64/egg/atlasreader/data/atlases\n",
      "copying build/lib/atlasreader/data/atlases/atlas_destrieux.nii.gz -> build/bdist.macosx-10.7-x86_64/egg/atlasreader/data/atlases\n",
      "copying build/lib/atlasreader/data/atlases/atlas_talairach_gyrus.nii.gz -> build/bdist.macosx-10.7-x86_64/egg/atlasreader/data/atlases\n",
      "copying build/lib/atlasreader/data/atlases/labels_desikan_killiany.csv -> build/bdist.macosx-10.7-x86_64/egg/atlasreader/data/atlases\n",
      "copying build/lib/atlasreader/data/atlases/labels_talairach_ba.csv -> build/bdist.macosx-10.7-x86_64/egg/atlasreader/data/atlases\n",
      "copying build/lib/atlasreader/data/atlases/labels_neuromorphometrics.csv -> build/bdist.macosx-10.7-x86_64/egg/atlasreader/data/atlases\n",
      "copying build/lib/atlasreader/data/atlases/atlas_desikan_killiany.nii.gz -> build/bdist.macosx-10.7-x86_64/egg/atlasreader/data/atlases\n",
      "copying build/lib/atlasreader/data/atlases/labels_harvard_oxford.csv -> build/bdist.macosx-10.7-x86_64/egg/atlasreader/data/atlases\n",
      "copying build/lib/atlasreader/data/atlases/atlas_aal.nii.gz -> build/bdist.macosx-10.7-x86_64/egg/atlasreader/data/atlases\n",
      "copying build/lib/atlasreader/data/atlases/labels_juelich.csv -> build/bdist.macosx-10.7-x86_64/egg/atlasreader/data/atlases\n",
      "copying build/lib/atlasreader/data/atlases/atlas_juelich.nii.gz -> build/bdist.macosx-10.7-x86_64/egg/atlasreader/data/atlases\n",
      "copying build/lib/atlasreader/data/atlases/labels_destrieux.csv -> build/bdist.macosx-10.7-x86_64/egg/atlasreader/data/atlases\n",
      "copying build/lib/atlasreader/data/atlases/atlas_neuromorphometrics.nii.gz -> build/bdist.macosx-10.7-x86_64/egg/atlasreader/data/atlases\n",
      "copying build/lib/atlasreader/data/atlases/labels_aal.csv -> build/bdist.macosx-10.7-x86_64/egg/atlasreader/data/atlases\n",
      "copying build/lib/atlasreader/data/atlases/atlas_talairach_ba.nii.gz -> build/bdist.macosx-10.7-x86_64/egg/atlasreader/data/atlases\n",
      "copying build/lib/atlasreader/data/atlases/atlas_aicha.nii.gz -> build/bdist.macosx-10.7-x86_64/egg/atlasreader/data/atlases\n",
      "byte-compiling build/bdist.macosx-10.7-x86_64/egg/atlasreader/atlasreader.py to atlasreader.cpython-37.pyc\n",
      "byte-compiling build/bdist.macosx-10.7-x86_64/egg/atlasreader/tests/test_atlasreader.py to test_atlasreader.cpython-37.pyc\n",
      "byte-compiling build/bdist.macosx-10.7-x86_64/egg/atlasreader/tests/__init__.py to __init__.cpython-37.pyc\n",
      "byte-compiling build/bdist.macosx-10.7-x86_64/egg/atlasreader/tests/test_cli.py to test_cli.cpython-37.pyc\n",
      "byte-compiling build/bdist.macosx-10.7-x86_64/egg/atlasreader/__init__.py to __init__.cpython-37.pyc\n",
      "byte-compiling build/bdist.macosx-10.7-x86_64/egg/atlasreader/cli.py to cli.cpython-37.pyc\n",
      "byte-compiling build/bdist.macosx-10.7-x86_64/egg/atlasreader/info.py to info.cpython-37.pyc\n",
      "byte-compiling build/bdist.macosx-10.7-x86_64/egg/atlasreader/data/prepare_atlases.py to prepare_atlases.cpython-37.pyc\n",
      "creating build/bdist.macosx-10.7-x86_64/egg/EGG-INFO\n",
      "copying atlasreader.egg-info/PKG-INFO -> build/bdist.macosx-10.7-x86_64/egg/EGG-INFO\n",
      "copying atlasreader.egg-info/SOURCES.txt -> build/bdist.macosx-10.7-x86_64/egg/EGG-INFO\n",
      "copying atlasreader.egg-info/dependency_links.txt -> build/bdist.macosx-10.7-x86_64/egg/EGG-INFO\n",
      "copying atlasreader.egg-info/entry_points.txt -> build/bdist.macosx-10.7-x86_64/egg/EGG-INFO\n",
      "copying atlasreader.egg-info/requires.txt -> build/bdist.macosx-10.7-x86_64/egg/EGG-INFO\n",
      "copying atlasreader.egg-info/top_level.txt -> build/bdist.macosx-10.7-x86_64/egg/EGG-INFO\n",
      "zip_safe flag not set; analyzing archive contents...\n",
      "creating 'dist/atlasreader-0.1.1-py3.7.egg' and adding 'build/bdist.macosx-10.7-x86_64/egg' to it\n",
      "removing 'build/bdist.macosx-10.7-x86_64/egg' (and everything under it)\n",
      "Processing atlasreader-0.1.1-py3.7.egg\n",
      "Removing /Users/daelsaid/miniconda3/envs/dev/lib/python3.7/site-packages/atlasreader-0.1.1-py3.7.egg\n",
      "Copying atlasreader-0.1.1-py3.7.egg to /Users/daelsaid/miniconda3/envs/dev/lib/python3.7/site-packages\n",
      "atlasreader 0.1.1 is already the active version in easy-install.pth\n",
      "Installing atlasreader script to /Users/daelsaid/miniconda3/envs/dev/bin\n",
      "Installing queryatlas script to /Users/daelsaid/miniconda3/envs/dev/bin\n",
      "\n",
      "Installed /Users/daelsaid/miniconda3/envs/dev/lib/python3.7/site-packages/atlasreader-0.1.1-py3.7.egg\n",
      "Processing dependencies for atlasreader==0.1.1\n",
      "Searching for scikit-learn==0.22\n",
      "Best match: scikit-learn 0.22\n",
      "Adding scikit-learn 0.22 to easy-install.pth file\n",
      "\n",
      "Using /Users/daelsaid/miniconda3/envs/dev/lib/python3.7/site-packages\n",
      "Searching for scikit-image==0.16.2\n",
      "Best match: scikit-image 0.16.2\n",
      "Adding scikit-image 0.16.2 to easy-install.pth file\n",
      "Installing skivi script to /Users/daelsaid/miniconda3/envs/dev/bin\n",
      "\n",
      "Using /Users/daelsaid/.local/lib/python3.7/site-packages\n",
      "Searching for scipy==1.4.1\n",
      "Best match: scipy 1.4.1\n",
      "Adding scipy 1.4.1 to easy-install.pth file\n",
      "\n",
      "Using /Users/daelsaid/miniconda3/envs/dev/lib/python3.7/site-packages\n",
      "Searching for pandas==0.25.3\n",
      "Best match: pandas 0.25.3\n",
      "Adding pandas 0.25.3 to easy-install.pth file\n",
      "\n",
      "Using /Users/daelsaid/miniconda3/envs/dev/lib/python3.7/site-packages\n",
      "Searching for numpy==1.17.4\n",
      "Best match: numpy 1.17.4\n",
      "Adding numpy 1.17.4 to easy-install.pth file\n",
      "Installing f2py script to /Users/daelsaid/miniconda3/envs/dev/bin\n",
      "Installing f2py3 script to /Users/daelsaid/miniconda3/envs/dev/bin\n",
      "Installing f2py3.7 script to /Users/daelsaid/miniconda3/envs/dev/bin\n",
      "\n",
      "Using /Users/daelsaid/miniconda3/envs/dev/lib/python3.7/site-packages\n",
      "Searching for nilearn==0.6.0\n",
      "Best match: nilearn 0.6.0\n",
      "Adding nilearn 0.6.0 to easy-install.pth file\n",
      "\n",
      "Using /Users/daelsaid/miniconda3/envs/dev/lib/python3.7/site-packages\n",
      "Searching for nibabel==3.0.0\n",
      "Best match: nibabel 3.0.0\n",
      "Adding nibabel 3.0.0 to easy-install.pth file\n",
      "Installing nib-dicomfs script to /Users/daelsaid/miniconda3/envs/dev/bin\n",
      "Installing nib-diff script to /Users/daelsaid/miniconda3/envs/dev/bin\n",
      "Installing nib-ls script to /Users/daelsaid/miniconda3/envs/dev/bin\n",
      "Installing nib-nifti-dx script to /Users/daelsaid/miniconda3/envs/dev/bin\n",
      "Installing nib-tck2trk script to /Users/daelsaid/miniconda3/envs/dev/bin\n",
      "Installing nib-trk2tck script to /Users/daelsaid/miniconda3/envs/dev/bin\n",
      "Installing parrec2nii script to /Users/daelsaid/miniconda3/envs/dev/bin\n",
      "\n",
      "Using /Users/daelsaid/miniconda3/envs/dev/lib/python3.7/site-packages\n",
      "Searching for matplotlib==3.2.0rc1\n",
      "Best match: matplotlib 3.2.0rc1\n",
      "Processing matplotlib-3.2.0rc1-py3.7-macosx-10.7-x86_64.egg\n",
      "matplotlib 3.2.0rc1 is already the active version in easy-install.pth\n",
      "\n",
      "Using /Users/daelsaid/miniconda3/envs/dev/lib/python3.7/site-packages/matplotlib-3.2.0rc1-py3.7-macosx-10.7-x86_64.egg\n",
      "Searching for joblib==0.14.1\n",
      "Best match: joblib 0.14.1\n",
      "Adding joblib 0.14.1 to easy-install.pth file\n",
      "\n",
      "Using /Users/daelsaid/miniconda3/envs/dev/lib/python3.7/site-packages\n",
      "Searching for networkx==2.4\n",
      "Best match: networkx 2.4\n",
      "Processing networkx-2.4-py3.7.egg\n",
      "networkx 2.4 is already the active version in easy-install.pth\n",
      "\n",
      "Using /Users/daelsaid/miniconda3/envs/dev/lib/python3.7/site-packages/networkx-2.4-py3.7.egg\n",
      "Searching for imageio==2.6.1\n",
      "Best match: imageio 2.6.1\n",
      "Processing imageio-2.6.1-py3.7.egg\n",
      "imageio 2.6.1 is already the active version in easy-install.pth\n",
      "Installing imageio_download_bin script to /Users/daelsaid/miniconda3/envs/dev/bin\n",
      "Installing imageio_remove_bin script to /Users/daelsaid/miniconda3/envs/dev/bin\n",
      "\n",
      "Using /Users/daelsaid/miniconda3/envs/dev/lib/python3.7/site-packages/imageio-2.6.1-py3.7.egg\n",
      "Searching for PyWavelets==1.1.1\n",
      "Best match: PyWavelets 1.1.1\n",
      "Processing PyWavelets-1.1.1-py3.7-macosx-10.7-x86_64.egg\n",
      "PyWavelets 1.1.1 is already the active version in easy-install.pth\n",
      "\n",
      "Using /Users/daelsaid/miniconda3/envs/dev/lib/python3.7/site-packages/PyWavelets-1.1.1-py3.7-macosx-10.7-x86_64.egg\n",
      "Searching for Pillow==6.2.1\n",
      "Best match: Pillow 6.2.1\n",
      "Processing Pillow-6.2.1-py3.7-macosx-10.7-x86_64.egg\n",
      "Pillow 6.2.1 is already the active version in easy-install.pth\n",
      "\n",
      "Using /Users/daelsaid/miniconda3/envs/dev/lib/python3.7/site-packages/Pillow-6.2.1-py3.7-macosx-10.7-x86_64.egg\n",
      "Searching for pytz==2019.3\n",
      "Best match: pytz 2019.3\n",
      "Adding pytz 2019.3 to easy-install.pth file\n",
      "\n",
      "Using /Users/daelsaid/miniconda3/envs/dev/lib/python3.7/site-packages\n",
      "Searching for python-dateutil==2.8.1\n",
      "Best match: python-dateutil 2.8.1\n",
      "Adding python-dateutil 2.8.1 to easy-install.pth file\n",
      "\n",
      "Using /Users/daelsaid/miniconda3/envs/dev/lib/python3.7/site-packages\n",
      "Searching for sklearn==0.0\n",
      "Best match: sklearn 0.0\n",
      "Adding sklearn 0.0 to easy-install.pth file\n",
      "\n",
      "Using /Users/daelsaid/miniconda3/envs/dev/lib/python3.7/site-packages\n",
      "Searching for pyparsing==2.4.5\n",
      "Best match: pyparsing 2.4.5\n",
      "Processing pyparsing-2.4.5-py3.7.egg\n",
      "pyparsing 2.4.5 is already the active version in easy-install.pth\n",
      "\n",
      "Using /Users/daelsaid/miniconda3/envs/dev/lib/python3.7/site-packages/pyparsing-2.4.5-py3.7.egg\n",
      "Searching for kiwisolver==1.1.0\n",
      "Best match: kiwisolver 1.1.0\n",
      "Processing kiwisolver-1.1.0-py3.7-macosx-10.7-x86_64.egg\n",
      "kiwisolver 1.1.0 is already the active version in easy-install.pth\n",
      "\n",
      "Using /Users/daelsaid/miniconda3/envs/dev/lib/python3.7/site-packages/kiwisolver-1.1.0-py3.7-macosx-10.7-x86_64.egg\n",
      "Searching for cycler==0.10.0\n",
      "Best match: cycler 0.10.0\n",
      "Processing cycler-0.10.0-py3.7.egg\n",
      "cycler 0.10.0 is already the active version in easy-install.pth\n",
      "\n",
      "Using /Users/daelsaid/miniconda3/envs/dev/lib/python3.7/site-packages/cycler-0.10.0-py3.7.egg\n",
      "Searching for decorator==4.4.1\n",
      "Best match: decorator 4.4.1\n",
      "Adding decorator 4.4.1 to easy-install.pth file\n",
      "\n",
      "Using /Users/daelsaid/miniconda3/envs/dev/lib/python3.7/site-packages\n",
      "Searching for six==1.13.0\n",
      "Best match: six 1.13.0\n",
      "Adding six 1.13.0 to easy-install.pth file\n",
      "\n",
      "Using /Users/daelsaid/miniconda3/envs/dev/lib/python3.7/site-packages\n",
      "Searching for setuptools==42.0.2.post20191203\n",
      "Best match: setuptools 42.0.2.post20191203\n",
      "Adding setuptools 42.0.2.post20191203 to easy-install.pth file\n",
      "Installing easy_install script to /Users/daelsaid/miniconda3/envs/dev/bin\n",
      "\n",
      "Using /Users/daelsaid/miniconda3/envs/dev/lib/python3.7/site-packages\n"
     ]
    },
    {
     "name": "stdout",
     "output_type": "stream",
     "text": [
      "Finished processing dependencies for atlasreader==0.1.1\r\n"
     ]
    }
   ],
   "source": [
    "os.chdir('/Users/daelsaid/tools/atlasreader/')\n",
    "os.listdir()\n",
    "!python setup.py install"
   ]
  },
  {
   "cell_type": "code",
   "execution_count": 9,
   "metadata": {
    "ExecuteTime": {
     "end_time": "2019-12-20T18:05:23.815659Z",
     "start_time": "2019-12-20T18:05:22.833754Z"
    }
   },
   "outputs": [
    {
     "name": "stdout",
     "output_type": "stream",
     "text": [
      "Requirement already satisfied: nilearn in /Users/daelsaid/miniconda3/envs/dev/lib/python3.7/site-packages (0.6.0)\n",
      "Requirement already satisfied: nibabel in /Users/daelsaid/miniconda3/envs/dev/lib/python3.7/site-packages (3.0.0)\n",
      "Requirement already satisfied: sklearn in /Users/daelsaid/miniconda3/envs/dev/lib/python3.7/site-packages (from nilearn) (0.0)\n",
      "Requirement already satisfied: scikit-learn>=0.19 in /Users/daelsaid/miniconda3/envs/dev/lib/python3.7/site-packages (from nilearn) (0.22)\n",
      "Requirement already satisfied: joblib>=0.11 in /Users/daelsaid/miniconda3/envs/dev/lib/python3.7/site-packages (from nilearn) (0.14.1)\n",
      "Requirement already satisfied: scipy>=0.19 in /Users/daelsaid/miniconda3/envs/dev/lib/python3.7/site-packages (from nilearn) (1.4.1)\n",
      "Requirement already satisfied: numpy>=1.11 in /Users/daelsaid/miniconda3/envs/dev/lib/python3.7/site-packages (from nilearn) (1.17.4)\n"
     ]
    }
   ],
   "source": [
    "!pip install nilearn nibabel"
   ]
  },
  {
   "cell_type": "code",
   "execution_count": 4,
   "metadata": {
    "ExecuteTime": {
     "end_time": "2019-12-20T21:55:34.186473Z",
     "start_time": "2019-12-20T21:55:32.968554Z"
    }
   },
   "outputs": [
    {
     "name": "stdout",
     "output_type": "stream",
     "text": [
      "The Python package you are importing, AtlasReader, is licensed under the\n",
      "BSD-3 license; however, the atlases it uses are separately licensed under more\n",
      "restrictive frameworks.\n",
      "By using AtlasReader, you agree to abide by the license terms of the\n",
      "individual atlases. Information on these terms can be found online at:\n",
      "https://github.com/miykael/atlasreader/tree/master/atlasreader/data\n",
      "\n"
     ]
    }
   ],
   "source": [
    "#!pip install atlasreader\n",
    "import atlasreader\n",
    "from atlasreader import create_output"
   ]
  },
  {
   "cell_type": "code",
   "execution_count": null,
   "metadata": {
    "ExecuteTime": {
     "start_time": "2019-12-20T21:55:36.749Z"
    },
    "inputHidden": false,
    "outputHidden": false,
    "scrolled": true
   },
   "outputs": [
    {
     "name": "stdout",
     "output_type": "stream",
     "text": [
      "238\n",
      "/Users/daelsaid/software/matlab_drive/exportResults/data/smpaddblock/addblock_no_regressors_allsubj_spm12/groupstats_addblock_swgcar_spm12/009T_simple-rest/addblock_swgcar_009T_simple-rest_neg_p_unc.001_238vox.nii\n"
     ]
    },
    {
     "name": "stderr",
     "output_type": "stream",
     "text": [
      "/Users/daelsaid/tools/atlasreader/atlasreader/atlasreader.py:840: FutureWarning: The 'get_values' method is deprecated and will be removed in a future version. Use '.values' or 'np.asarray(..)' instead.\n",
      "  coords = clust_frame[['peak_x', 'peak_y', 'peak_z']].get_values()\n"
     ]
    },
    {
     "name": "stdout",
     "output_type": "stream",
     "text": [
      "605\n",
      "/Users/daelsaid/software/matlab_drive/exportResults/data/smpaddblock/addblock_no_regressors_allsubj_spm12/groupstats_addblock_swgcar_spm12/009T_simple-rest/addblock_swgcar_009T_simple-rest_pos_p_unc.001_605vox.nii\n"
     ]
    },
    {
     "name": "stderr",
     "output_type": "stream",
     "text": [
      "/Users/daelsaid/tools/atlasreader/atlasreader/atlasreader.py:840: FutureWarning: The 'get_values' method is deprecated and will be removed in a future version. Use '.values' or 'np.asarray(..)' instead.\n",
      "  coords = clust_frame[['peak_x', 'peak_y', 'peak_z']].get_values()\n"
     ]
    },
    {
     "name": "stdout",
     "output_type": "stream",
     "text": [
      "244\n",
      "/Users/daelsaid/software/matlab_drive/exportResults/data/smpaddblock/addblock_no_regressors_allsubj_spm12/groupstats_addblock_swgcar_spm12/003T_complex-find/addblock_swgcar_003T_complex-find_neg_p_unc.001_244vox.nii\n"
     ]
    },
    {
     "name": "stderr",
     "output_type": "stream",
     "text": [
      "/Users/daelsaid/tools/atlasreader/atlasreader/atlasreader.py:840: FutureWarning: The 'get_values' method is deprecated and will be removed in a future version. Use '.values' or 'np.asarray(..)' instead.\n",
      "  coords = clust_frame[['peak_x', 'peak_y', 'peak_z']].get_values()\n"
     ]
    },
    {
     "name": "stdout",
     "output_type": "stream",
     "text": [
      "222\n",
      "/Users/daelsaid/software/matlab_drive/exportResults/data/smpaddblock/addblock_no_regressors_allsubj_spm12/groupstats_addblock_swgcar_spm12/011T_find-rest/addblock_swgcar_011T_find-rest_pos_p_unc.001_222vox.nii\n"
     ]
    },
    {
     "name": "stderr",
     "output_type": "stream",
     "text": [
      "/Users/daelsaid/tools/atlasreader/atlasreader/atlasreader.py:840: FutureWarning: The 'get_values' method is deprecated and will be removed in a future version. Use '.values' or 'np.asarray(..)' instead.\n",
      "  coords = clust_frame[['peak_x', 'peak_y', 'peak_z']].get_values()\n"
     ]
    },
    {
     "name": "stdout",
     "output_type": "stream",
     "text": [
      "324\n",
      "/Users/daelsaid/software/matlab_drive/exportResults/data/smpaddblock/addblock_no_regressors_allsubj_spm12/groupstats_addblock_swgcar_spm12/011T_find-rest/addblock_swgcar_011T_find-rest_neg_p_unc.001_324vox.nii\n"
     ]
    },
    {
     "name": "stderr",
     "output_type": "stream",
     "text": [
      "/Users/daelsaid/tools/atlasreader/atlasreader/atlasreader.py:840: FutureWarning: The 'get_values' method is deprecated and will be removed in a future version. Use '.values' or 'np.asarray(..)' instead.\n",
      "  coords = clust_frame[['peak_x', 'peak_y', 'peak_z']].get_values()\n"
     ]
    },
    {
     "name": "stdout",
     "output_type": "stream",
     "text": [
      "458\n",
      "/Users/daelsaid/software/matlab_drive/exportResults/data/smpaddblock/addblock_no_regressors_allsubj_spm12/groupstats_addblock_swgcar_spm12/005T_simple-find/addblock_swgcar_005T_simple-find_neg_p_unc.001_458vox.nii\n"
     ]
    },
    {
     "name": "stderr",
     "output_type": "stream",
     "text": [
      "/Users/daelsaid/tools/atlasreader/atlasreader/atlasreader.py:840: FutureWarning: The 'get_values' method is deprecated and will be removed in a future version. Use '.values' or 'np.asarray(..)' instead.\n",
      "  coords = clust_frame[['peak_x', 'peak_y', 'peak_z']].get_values()\n"
     ]
    },
    {
     "name": "stdout",
     "output_type": "stream",
     "text": [
      "252\n",
      "/Users/daelsaid/software/matlab_drive/exportResults/data/smpaddblock/addblock_no_regressors_allsubj_spm12/groupstats_addblock_swgcar_spm12/007T_complex-rest/addblock_swgcar_007T_complex-rest_neg_p_unc.001_252vox.nii\n"
     ]
    },
    {
     "name": "stderr",
     "output_type": "stream",
     "text": [
      "/Users/daelsaid/tools/atlasreader/atlasreader/atlasreader.py:840: FutureWarning: The 'get_values' method is deprecated and will be removed in a future version. Use '.values' or 'np.asarray(..)' instead.\n",
      "  coords = clust_frame[['peak_x', 'peak_y', 'peak_z']].get_values()\n"
     ]
    },
    {
     "name": "stdout",
     "output_type": "stream",
     "text": [
      "266\n",
      "/Users/daelsaid/software/matlab_drive/exportResults/data/smpaddblock/addblock_no_regressors_allsubj_spm12/groupstats_addblock_swgcar_spm12/007T_complex-rest/addblock_swgcar_007T_complex-rest_pos_p_unc.001_266vox.nii\n"
     ]
    },
    {
     "name": "stderr",
     "output_type": "stream",
     "text": [
      "/Users/daelsaid/tools/atlasreader/atlasreader/atlasreader.py:840: FutureWarning: The 'get_values' method is deprecated and will be removed in a future version. Use '.values' or 'np.asarray(..)' instead.\n",
      "  coords = clust_frame[['peak_x', 'peak_y', 'peak_z']].get_values()\n"
     ]
    },
    {
     "name": "stdout",
     "output_type": "stream",
     "text": [
      "234\n",
      "/Users/daelsaid/software/matlab_drive/exportResults/data/smpaddblock/addblock_no_regressors_allsubj_spm12/groupstats_addblock_swcar_spm12/009T_simple-rest/addblock_swgcar_009T_simple-rest_neg_p_unc.001_234vox.nii\n"
     ]
    },
    {
     "name": "stderr",
     "output_type": "stream",
     "text": [
      "/Users/daelsaid/tools/atlasreader/atlasreader/atlasreader.py:840: FutureWarning: The 'get_values' method is deprecated and will be removed in a future version. Use '.values' or 'np.asarray(..)' instead.\n",
      "  coords = clust_frame[['peak_x', 'peak_y', 'peak_z']].get_values()\n"
     ]
    },
    {
     "name": "stdout",
     "output_type": "stream",
     "text": [
      "435\n",
      "/Users/daelsaid/software/matlab_drive/exportResults/data/smpaddblock/addblock_no_regressors_allsubj_spm12/groupstats_addblock_swcar_spm12/009T_simple-rest/addblock_swgcar_009T_simple-rest_pos_p_unc.001_435vox.nii\n"
     ]
    },
    {
     "name": "stderr",
     "output_type": "stream",
     "text": [
      "/Users/daelsaid/tools/atlasreader/atlasreader/atlasreader.py:840: FutureWarning: The 'get_values' method is deprecated and will be removed in a future version. Use '.values' or 'np.asarray(..)' instead.\n",
      "  coords = clust_frame[['peak_x', 'peak_y', 'peak_z']].get_values()\n"
     ]
    },
    {
     "name": "stdout",
     "output_type": "stream",
     "text": [
      "289\n",
      "/Users/daelsaid/software/matlab_drive/exportResults/data/smpaddblock/addblock_no_regressors_allsubj_spm12/groupstats_addblock_swcar_spm12/003T_complex-find/addblock_swgcar_003T_complex-find_pos_p_unc.001_289vox.nii\n"
     ]
    },
    {
     "name": "stderr",
     "output_type": "stream",
     "text": [
      "/Users/daelsaid/miniconda3/lib/python3.7/site-packages/nilearn/plotting/displays.py:780: UserWarning: empty mask\n",
      "  get_mask_bounds(new_img_like(img, not_mask, affine))\n"
     ]
    },
    {
     "name": "stdout",
     "output_type": "stream",
     "text": [
      "311\n",
      "/Users/daelsaid/software/matlab_drive/exportResults/data/smpaddblock/addblock_no_regressors_allsubj_spm12/groupstats_addblock_swcar_spm12/003T_complex-find/addblock_swgcar_003T_complex-find_neg_p_unc.001_311vox.nii\n"
     ]
    },
    {
     "name": "stderr",
     "output_type": "stream",
     "text": [
      "/Users/daelsaid/miniconda3/lib/python3.7/site-packages/nilearn/plotting/displays.py:780: UserWarning: empty mask\n",
      "  get_mask_bounds(new_img_like(img, not_mask, affine))\n"
     ]
    },
    {
     "name": "stdout",
     "output_type": "stream",
     "text": [
      "217\n",
      "/Users/daelsaid/software/matlab_drive/exportResults/data/smpaddblock/addblock_no_regressors_allsubj_spm12/groupstats_addblock_swcar_spm12/011T_find-rest/addblock_swgcar_011T_find-rest_pos_p_unc.001_217vox.nii\n"
     ]
    },
    {
     "name": "stderr",
     "output_type": "stream",
     "text": [
      "/Users/daelsaid/tools/atlasreader/atlasreader/atlasreader.py:840: FutureWarning: The 'get_values' method is deprecated and will be removed in a future version. Use '.values' or 'np.asarray(..)' instead.\n",
      "  coords = clust_frame[['peak_x', 'peak_y', 'peak_z']].get_values()\n"
     ]
    },
    {
     "name": "stdout",
     "output_type": "stream",
     "text": [
      "412\n",
      "/Users/daelsaid/software/matlab_drive/exportResults/data/smpaddblock/addblock_no_regressors_allsubj_spm12/groupstats_addblock_swcar_spm12/011T_find-rest/addblock_swgcar_011T_find-rest_neg_p_unc.001_412vox.nii\n"
     ]
    },
    {
     "name": "stderr",
     "output_type": "stream",
     "text": [
      "/Users/daelsaid/tools/atlasreader/atlasreader/atlasreader.py:840: FutureWarning: The 'get_values' method is deprecated and will be removed in a future version. Use '.values' or 'np.asarray(..)' instead.\n",
      "  coords = clust_frame[['peak_x', 'peak_y', 'peak_z']].get_values()\n"
     ]
    },
    {
     "name": "stdout",
     "output_type": "stream",
     "text": [
      "801\n",
      "/Users/daelsaid/software/matlab_drive/exportResults/data/smpaddblock/addblock_no_regressors_allsubj_spm12/groupstats_addblock_swcar_spm12/005T_simple-find/addblock_swgcar_005T_simple-find_neg_p_unc.001_801vox.nii\n"
     ]
    },
    {
     "name": "stderr",
     "output_type": "stream",
     "text": [
      "/Users/daelsaid/tools/atlasreader/atlasreader/atlasreader.py:840: FutureWarning: The 'get_values' method is deprecated and will be removed in a future version. Use '.values' or 'np.asarray(..)' instead.\n",
      "  coords = clust_frame[['peak_x', 'peak_y', 'peak_z']].get_values()\n"
     ]
    },
    {
     "name": "stdout",
     "output_type": "stream",
     "text": [
      "224\n",
      "/Users/daelsaid/software/matlab_drive/exportResults/data/smpaddblock/addblock_no_regressors_allsubj_spm12/groupstats_addblock_swcar_spm12/007T_complex-rest/addblock_swgcar_007T_complex-rest_pos_p_unc.001_224vox.nii\n"
     ]
    },
    {
     "name": "stderr",
     "output_type": "stream",
     "text": [
      "/Users/daelsaid/tools/atlasreader/atlasreader/atlasreader.py:840: FutureWarning: The 'get_values' method is deprecated and will be removed in a future version. Use '.values' or 'np.asarray(..)' instead.\n",
      "  coords = clust_frame[['peak_x', 'peak_y', 'peak_z']].get_values()\n"
     ]
    },
    {
     "name": "stdout",
     "output_type": "stream",
     "text": [
      "263\n",
      "/Users/daelsaid/software/matlab_drive/exportResults/data/smpaddblock/addblock_no_regressors_allsubj_spm12/groupstats_addblock_swcar_spm12/007T_complex-rest/addblock_swgcar_007T_complex-rest_neg_p_unc.001_263vox.nii\n"
     ]
    },
    {
     "name": "stderr",
     "output_type": "stream",
     "text": [
      "/Users/daelsaid/tools/atlasreader/atlasreader/atlasreader.py:840: FutureWarning: The 'get_values' method is deprecated and will be removed in a future version. Use '.values' or 'np.asarray(..)' instead.\n",
      "  coords = clust_frame[['peak_x', 'peak_y', 'peak_z']].get_values()\n"
     ]
    },
    {
     "name": "stdout",
     "output_type": "stream",
     "text": [
      "312\n",
      "/Users/daelsaid/software/matlab_drive/exportResults/data/smpaddblock/addblock_no_regressors_allsubj_spm12/groupstats_addblock_swgcaor_volrepaired_spm12/013T_task-rest/addblock_swgcaor__pos_p_unc.001_312vox.nii\n"
     ]
    },
    {
     "name": "stderr",
     "output_type": "stream",
     "text": [
      "/Users/daelsaid/tools/atlasreader/atlasreader/atlasreader.py:840: FutureWarning: The 'get_values' method is deprecated and will be removed in a future version. Use '.values' or 'np.asarray(..)' instead.\n",
      "  coords = clust_frame[['peak_x', 'peak_y', 'peak_z']].get_values()\n"
     ]
    },
    {
     "name": "stdout",
     "output_type": "stream",
     "text": [
      "269\n",
      "/Users/daelsaid/software/matlab_drive/exportResults/data/smpaddblock/addblock_no_regressors_allsubj_spm12/groupstats_addblock_swgcaor_volrepaired_spm12/013T_task-rest/addblock_swgcaor__neg_p_unc.001_269vox.nii\n"
     ]
    },
    {
     "name": "stderr",
     "output_type": "stream",
     "text": [
      "/Users/daelsaid/tools/atlasreader/atlasreader/atlasreader.py:840: FutureWarning: The 'get_values' method is deprecated and will be removed in a future version. Use '.values' or 'np.asarray(..)' instead.\n",
      "  coords = clust_frame[['peak_x', 'peak_y', 'peak_z']].get_values()\n"
     ]
    },
    {
     "name": "stdout",
     "output_type": "stream",
     "text": [
      "282\n",
      "/Users/daelsaid/software/matlab_drive/exportResults/data/smpaddblock/addblock_no_regressors_allsubj_spm12/groupstats_addblock_swgcaor_volrepaired_spm12/009T_simple-rest/addblock_swgcaor_009T_simple-rest_neg_p_unc.001_282vox.nii\n"
     ]
    },
    {
     "name": "stderr",
     "output_type": "stream",
     "text": [
      "/Users/daelsaid/tools/atlasreader/atlasreader/atlasreader.py:840: FutureWarning: The 'get_values' method is deprecated and will be removed in a future version. Use '.values' or 'np.asarray(..)' instead.\n",
      "  coords = clust_frame[['peak_x', 'peak_y', 'peak_z']].get_values()\n"
     ]
    },
    {
     "name": "stdout",
     "output_type": "stream",
     "text": [
      "1065\n",
      "/Users/daelsaid/software/matlab_drive/exportResults/data/smpaddblock/addblock_no_regressors_allsubj_spm12/groupstats_addblock_swgcaor_volrepaired_spm12/003T_complex-find/addblock_swgcaor_003T_complex-find_neg_p_unc.001_1065vox.nii\n"
     ]
    },
    {
     "name": "stderr",
     "output_type": "stream",
     "text": [
      "/Users/daelsaid/tools/atlasreader/atlasreader/atlasreader.py:840: FutureWarning: The 'get_values' method is deprecated and will be removed in a future version. Use '.values' or 'np.asarray(..)' instead.\n",
      "  coords = clust_frame[['peak_x', 'peak_y', 'peak_z']].get_values()\n"
     ]
    },
    {
     "name": "stdout",
     "output_type": "stream",
     "text": [
      "523\n",
      "/Users/daelsaid/software/matlab_drive/exportResults/data/smpaddblock/addblock_no_regressors_allsubj_spm12/groupstats_addblock_swgcaor_volrepaired_spm12/003T_complex-find/addblock_swgcaor_003T_complex-find_pos_p_unc.001_523vox.nii\n"
     ]
    },
    {
     "name": "stderr",
     "output_type": "stream",
     "text": [
      "/Users/daelsaid/tools/atlasreader/atlasreader/atlasreader.py:840: FutureWarning: The 'get_values' method is deprecated and will be removed in a future version. Use '.values' or 'np.asarray(..)' instead.\n",
      "  coords = clust_frame[['peak_x', 'peak_y', 'peak_z']].get_values()\n"
     ]
    },
    {
     "name": "stdout",
     "output_type": "stream",
     "text": [
      "242\n",
      "/Users/daelsaid/software/matlab_drive/exportResults/data/smpaddblock/addblock_no_regressors_allsubj_spm12/groupstats_addblock_swgcaor_volrepaired_spm12/011T_find-rest/addblock_swgcaor_011T_find-rest_pos_p_unc.001_242vox.nii\n"
     ]
    },
    {
     "name": "stderr",
     "output_type": "stream",
     "text": [
      "/Users/daelsaid/tools/atlasreader/atlasreader/atlasreader.py:840: FutureWarning: The 'get_values' method is deprecated and will be removed in a future version. Use '.values' or 'np.asarray(..)' instead.\n",
      "  coords = clust_frame[['peak_x', 'peak_y', 'peak_z']].get_values()\n"
     ]
    },
    {
     "name": "stdout",
     "output_type": "stream",
     "text": [
      "255\n",
      "/Users/daelsaid/software/matlab_drive/exportResults/data/smpaddblock/addblock_no_regressors_allsubj_spm12/groupstats_addblock_swgcaor_volrepaired_spm12/011T_find-rest/addblock_swgcaor_011T_find-rest_neg_p_unc.001_255vox.nii\n"
     ]
    },
    {
     "name": "stderr",
     "output_type": "stream",
     "text": [
      "/Users/daelsaid/tools/atlasreader/atlasreader/atlasreader.py:840: FutureWarning: The 'get_values' method is deprecated and will be removed in a future version. Use '.values' or 'np.asarray(..)' instead.\n",
      "  coords = clust_frame[['peak_x', 'peak_y', 'peak_z']].get_values()\n"
     ]
    },
    {
     "name": "stdout",
     "output_type": "stream",
     "text": [
      "243\n",
      "/Users/daelsaid/software/matlab_drive/exportResults/data/smpaddblock/addblock_no_regressors_allsubj_spm12/groupstats_addblock_swgcaor_volrepaired_spm12/005T_simple-find/addblock_swgcaor_005T_simple-find_neg_p_unc.001_243vox.nii\n"
     ]
    },
    {
     "name": "stderr",
     "output_type": "stream",
     "text": [
      "/Users/daelsaid/tools/atlasreader/atlasreader/atlasreader.py:840: FutureWarning: The 'get_values' method is deprecated and will be removed in a future version. Use '.values' or 'np.asarray(..)' instead.\n",
      "  coords = clust_frame[['peak_x', 'peak_y', 'peak_z']].get_values()\n"
     ]
    },
    {
     "name": "stdout",
     "output_type": "stream",
     "text": [
      "302\n",
      "/Users/daelsaid/software/matlab_drive/exportResults/data/smpaddblock/addblock_no_regressors_allsubj_spm12/groupstats_addblock_swgcaor_volrepaired_spm12/007T_complex-rest/addblock_swgcaor_007T_complex-rest_neg_p_unc.001_302vox.nii\n"
     ]
    },
    {
     "name": "stderr",
     "output_type": "stream",
     "text": [
      "/Users/daelsaid/tools/atlasreader/atlasreader/atlasreader.py:840: FutureWarning: The 'get_values' method is deprecated and will be removed in a future version. Use '.values' or 'np.asarray(..)' instead.\n",
      "  coords = clust_frame[['peak_x', 'peak_y', 'peak_z']].get_values()\n"
     ]
    },
    {
     "name": "stdout",
     "output_type": "stream",
     "text": [
      "221\n",
      "/Users/daelsaid/software/matlab_drive/exportResults/data/smpaddblock/addblock_no_regressors_allsubj_spm12/groupstats_addblock_swgcaor_volrepaired_spm12/007T_complex-rest/addblock_swgcaor_007T_complex-rest_pos_p_unc.001_221vox.nii\n"
     ]
    },
    {
     "name": "stderr",
     "output_type": "stream",
     "text": [
      "/Users/daelsaid/tools/atlasreader/atlasreader/atlasreader.py:840: FutureWarning: The 'get_values' method is deprecated and will be removed in a future version. Use '.values' or 'np.asarray(..)' instead.\n",
      "  coords = clust_frame[['peak_x', 'peak_y', 'peak_z']].get_values()\n"
     ]
    },
    {
     "name": "stdout",
     "output_type": "stream",
     "text": [
      "396\n",
      "/Users/daelsaid/software/matlab_drive/exportResults/data/smpaddblock/addblock_no_regressors_allsubj_spm12/groupstats_addblock_swaor_spm12/001T_complex-simple/addblock_swgcar_001T_complex-simple_pos_p_unc.001_396vox.nii\n"
     ]
    },
    {
     "name": "stderr",
     "output_type": "stream",
     "text": [
      "/Users/daelsaid/tools/atlasreader/atlasreader/atlasreader.py:840: FutureWarning: The 'get_values' method is deprecated and will be removed in a future version. Use '.values' or 'np.asarray(..)' instead.\n",
      "  coords = clust_frame[['peak_x', 'peak_y', 'peak_z']].get_values()\n"
     ]
    },
    {
     "name": "stdout",
     "output_type": "stream",
     "text": [
      "538\n",
      "/Users/daelsaid/software/matlab_drive/exportResults/data/smpaddblock/addblock_no_regressors_allsubj_spm12/groupstats_addblock_swaor_spm12/009T_simple-rest/addblock_swgcar_009T_simple-rest_neg_p_unc.001_538vox.nii\n"
     ]
    },
    {
     "name": "stderr",
     "output_type": "stream",
     "text": [
      "/Users/daelsaid/tools/atlasreader/atlasreader/atlasreader.py:840: FutureWarning: The 'get_values' method is deprecated and will be removed in a future version. Use '.values' or 'np.asarray(..)' instead.\n",
      "  coords = clust_frame[['peak_x', 'peak_y', 'peak_z']].get_values()\n"
     ]
    },
    {
     "name": "stdout",
     "output_type": "stream",
     "text": [
      "1087\n",
      "/Users/daelsaid/software/matlab_drive/exportResults/data/smpaddblock/addblock_no_regressors_allsubj_spm12/groupstats_addblock_swaor_spm12/003T_complex-find/addblock_swgcar_003T_complex-find_neg_p_unc.001_1087vox.nii\n"
     ]
    },
    {
     "name": "stderr",
     "output_type": "stream",
     "text": [
      "/Users/daelsaid/tools/atlasreader/atlasreader/atlasreader.py:840: FutureWarning: The 'get_values' method is deprecated and will be removed in a future version. Use '.values' or 'np.asarray(..)' instead.\n",
      "  coords = clust_frame[['peak_x', 'peak_y', 'peak_z']].get_values()\n"
     ]
    },
    {
     "name": "stdout",
     "output_type": "stream",
     "text": [
      "903\n",
      "/Users/daelsaid/software/matlab_drive/exportResults/data/smpaddblock/addblock_no_regressors_allsubj_spm12/groupstats_addblock_swaor_spm12/003T_complex-find/addblock_swgcar_003T_complex-find_pos_p_unc.001_903vox.nii\n"
     ]
    },
    {
     "name": "stderr",
     "output_type": "stream",
     "text": [
      "/Users/daelsaid/tools/atlasreader/atlasreader/atlasreader.py:840: FutureWarning: The 'get_values' method is deprecated and will be removed in a future version. Use '.values' or 'np.asarray(..)' instead.\n",
      "  coords = clust_frame[['peak_x', 'peak_y', 'peak_z']].get_values()\n"
     ]
    },
    {
     "name": "stdout",
     "output_type": "stream",
     "text": [
      "829\n",
      "/Users/daelsaid/software/matlab_drive/exportResults/data/smpaddblock/addblock_no_regressors_allsubj_spm12/groupstats_addblock_swaor_spm12/011T_find-rest/addblock_swgcar_011T_find-rest_neg_p_unc.001_829vox.nii\n"
     ]
    },
    {
     "name": "stderr",
     "output_type": "stream",
     "text": [
      "/Users/daelsaid/tools/atlasreader/atlasreader/atlasreader.py:840: FutureWarning: The 'get_values' method is deprecated and will be removed in a future version. Use '.values' or 'np.asarray(..)' instead.\n",
      "  coords = clust_frame[['peak_x', 'peak_y', 'peak_z']].get_values()\n"
     ]
    },
    {
     "name": "stdout",
     "output_type": "stream",
     "text": [
      "309\n",
      "/Users/daelsaid/software/matlab_drive/exportResults/data/smpaddblock/addblock_no_regressors_allsubj_spm12/groupstats_addblock_swaor_spm12/011T_find-rest/addblock_swgcar_011T_find-rest_pos_p_unc.001_309vox.nii\n"
     ]
    },
    {
     "name": "stderr",
     "output_type": "stream",
     "text": [
      "/Users/daelsaid/tools/atlasreader/atlasreader/atlasreader.py:840: FutureWarning: The 'get_values' method is deprecated and will be removed in a future version. Use '.values' or 'np.asarray(..)' instead.\n",
      "  coords = clust_frame[['peak_x', 'peak_y', 'peak_z']].get_values()\n"
     ]
    },
    {
     "name": "stdout",
     "output_type": "stream",
     "text": [
      "333\n",
      "/Users/daelsaid/software/matlab_drive/exportResults/data/smpaddblock/addblock_no_regressors_allsubj_spm12/groupstats_addblock_swaor_spm12/005T_simple-find/addblock_swgcar_005T_simple-find_neg_p_unc.001_333vox.nii\n"
     ]
    },
    {
     "name": "stderr",
     "output_type": "stream",
     "text": [
      "/Users/daelsaid/tools/atlasreader/atlasreader/atlasreader.py:840: FutureWarning: The 'get_values' method is deprecated and will be removed in a future version. Use '.values' or 'np.asarray(..)' instead.\n",
      "  coords = clust_frame[['peak_x', 'peak_y', 'peak_z']].get_values()\n"
     ]
    },
    {
     "name": "stdout",
     "output_type": "stream",
     "text": [
      "395\n",
      "/Users/daelsaid/software/matlab_drive/exportResults/data/smpaddblock/addblock_no_regressors_allsubj_spm12/groupstats_addblock_swaor_spm12/007T_complex-rest/addblock_swgcar_007T_complex-rest_neg_p_unc.001_395vox.nii\n"
     ]
    },
    {
     "name": "stderr",
     "output_type": "stream",
     "text": [
      "/Users/daelsaid/tools/atlasreader/atlasreader/atlasreader.py:840: FutureWarning: The 'get_values' method is deprecated and will be removed in a future version. Use '.values' or 'np.asarray(..)' instead.\n",
      "  coords = clust_frame[['peak_x', 'peak_y', 'peak_z']].get_values()\n"
     ]
    }
   ],
   "source": [
    "pwd=os.getcwd()\n",
    "for file_images in files:\n",
    "    numvox=os.path.basename(file_images).split('001_')[-1].split('.')[0]\n",
    "    contrast=os.path.dirname(file_images).split('/')[-1]\n",
    "    pipeline=os.path.dirname(file_images).split('/')[-2].split('_')[2]\n",
    "    direction=os.path.basename(file_images).split('_')[-4]\n",
    "    imgname=pipeline+ ' - addition block - ' + contrast + ' -- '+ direction+'. p<0.001, '+ numvox\n",
    "    output_filename=pipeline+ '_addition block_'+ contrast + '_'+ direction+'_p-0.001_'+numvox\n",
    "#     print(numvox,contrast,pipeline,direction,imgname,output_filename)\n",
    "    numvoxels_for_outputfile=int(numvox.split('vox')[0])\n",
    "    '{:f}'.format(numvoxels_for_outputfile)\n",
    "    os.chdir(os.path.dirname(file_images))\n",
    "    plot_glass_brain(file_images, black_bg=True, colorbar=True, plot_abs=False,display_mode='lyrz', title=imgname,output_file=output_filename+'.png')\n",
    "    plot_stat_map(file_images,title=imgname, output_file=output_filename+'_stat.png')\n",
    "    print(numvoxels_for_outputfile)\n",
    "    print(file_images)\n",
    "    img=os.path.basename(file_images)\n",
    "    atlasreader.create_output(img,cluster_extent=numvoxels_for_outputfile)"
   ]
  },
  {
   "cell_type": "markdown",
   "metadata": {
    "ExecuteTime": {
     "end_time": "2019-12-20T18:06:01.522613Z",
     "start_time": "2019-12-20T18:06:01.517727Z"
    },
    "inputHidden": false,
    "outputHidden": false
   },
   "source": [
    "plot_stat_map\n",
    "plot_prob_atlas\n",
    "plot_img\n",
    "plot_glass_brain\n",
    "plot_connectome\n",
    "plot_roi\n",
    "plot_epi"
   ]
  },
  {
   "cell_type": "code",
   "execution_count": 4,
   "metadata": {
    "ExecuteTime": {
     "end_time": "2019-12-20T18:04:59.289012Z",
     "start_time": "2019-12-20T18:04:59.282770Z"
    },
    "inputHidden": false,
    "outputExpanded": false,
    "outputHidden": false
   },
   "outputs": [],
   "source": [
    "for file_images in files:\n",
    "    numvox=os.path.basename(file_images).split('001_')[-1].split('.')[0]\n",
    "#     print(numvox)\n",
    "    contrast=os.path.dirname(file_images).split('/')[-1]\n",
    "#     print(contrast)\n",
    "    pipeline=os.path.dirname(file_images).split('/')[-2].split('_')[2]\n",
    "#     print(pipeline)\n",
    "    direction=os.path.basename(file_images).split('_')[-4]\n",
    "#     print(direcion)\n",
    "    imgname=pipeline+ ' - addition block - ' + contrast + ' -- '+ direction+'. p<0.001, '+ numvox\n",
    "#     print(imgname)\n",
    "    output_filename=pipeline+ '_addition block_'+ contrast + '_'+ direction+'_p-0.001_'+numvox\n",
    "#     print(output_filename)\n",
    "#     plot_glass_brain(file_images, black_bg=True, colorbar=True, plot_abs=False,display_mode='lyrz', title=imgname,output_file=output_filename+'.png')\n",
    "#     plot_stat_map(file_images,title=imgname, output_file=output_filename+'_stat.png')\n",
    " \n"
   ]
  }
 ],
 "metadata": {
  "anaconda-cloud": {},
  "kernel_info": {
   "name": "python3"
  },
  "kernelspec": {
   "display_name": "Python 3",
   "language": "python",
   "name": "python3"
  },
  "language_info": {
   "codemirror_mode": {
    "name": "ipython",
    "version": 3
   },
   "file_extension": ".py",
   "mimetype": "text/x-python",
   "name": "python",
   "nbconvert_exporter": "python",
   "pygments_lexer": "ipython3",
   "version": "3.7.1"
  },
  "nteract": {
   "version": "0.12.3"
  },
  "toc": {
   "base_numbering": 1,
   "nav_menu": {},
   "number_sections": true,
   "sideBar": true,
   "skip_h1_title": false,
   "title_cell": "Table of Contents",
   "title_sidebar": "Contents",
   "toc_cell": true,
   "toc_position": {},
   "toc_section_display": true,
   "toc_window_display": false
  }
 },
 "nbformat": 4,
 "nbformat_minor": 2
}
